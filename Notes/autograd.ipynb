{
 "cells": [
  {
   "cell_type": "code",
   "execution_count": 2,
   "id": "e0fcc767",
   "metadata": {},
   "outputs": [],
   "source": [
    "import torch"
   ]
  },
  {
   "cell_type": "markdown",
   "id": "db09844d",
   "metadata": {},
   "source": [
    "In order to work with functions that take in tensors as input and calculate **gradient** for optimization, we must use the *requires_grad* parameter and set to true."
   ]
  },
  {
   "cell_type": "code",
   "execution_count": null,
   "id": "c77edae7",
   "metadata": {},
   "outputs": [
    {
     "data": {
      "text/plain": [
       "tensor([1., 1., 1.], requires_grad=True)"
      ]
     },
     "execution_count": 4,
     "metadata": {},
     "output_type": "execute_result"
    }
   ],
   "source": [
    "t_X = torch.ones(3, requires_grad=True) # define a tensor and set requires_grad as true so it knows to calculate gradient\n",
    "t_X"
   ]
  },
  {
   "cell_type": "markdown",
   "id": "832f9b45",
   "metadata": {},
   "source": [
    "Gradient is calculated through a process called **Backpropagation**\n",
    "\n",
    "Using our earlier example, the process is as follows:\n",
    "- ***Forward Pass*** $\\rightarrow$ use inputs to calculate output ($t_Y$ in this case)\n",
    "- ***Function for Backpropagation*** $\\rightarrow$ Pytorch creates and stores a function used for the backpropagation, this will *point to a gradient function* (`grad_fn`)\n",
    "- ***Backward Path*** $\\rightarrow$ Calculates gradient of $t_Y$ with respect to $t_X$ here"
   ]
  },
  {
   "cell_type": "code",
   "execution_count": 12,
   "id": "630f6598",
   "metadata": {},
   "outputs": [
    {
     "data": {
      "text/plain": [
       "tensor([2., 2., 2.], grad_fn=<MulBackward0>)"
      ]
     },
     "execution_count": 12,
     "metadata": {},
     "output_type": "execute_result"
    }
   ],
   "source": [
    "# function test example\n",
    "t_Y = t_X * 2\n",
    "t_Y"
   ]
  },
  {
   "cell_type": "markdown",
   "id": "50e45e85",
   "metadata": {},
   "source": [
    "Here, the gradient function (from steps 2,3) used is a *\"multiply backwards\"* function"
   ]
  },
  {
   "cell_type": "code",
   "execution_count": null,
   "id": "ba83fd52",
   "metadata": {},
   "outputs": [
    {
     "name": "stdout",
     "output_type": "stream",
     "text": [
      "tensor([1.3333, 1.3333, 1.3333])\n"
     ]
    }
   ],
   "source": [
    "# Calculate gradients of t_Y with respect to t_X\n",
    "t_Y = t_Y.mean()\n",
    "grad_Y = t_Y.backward() # dt_Y / dt_X\n",
    "\n",
    "# print gradients\n",
    "print(t_X.grad)"
   ]
  },
  {
   "cell_type": "markdown",
   "id": "315af877",
   "metadata": {},
   "source": [
    "If you try and call `.backward()` without `requires_grad=True` (i.e. we have `requires_grad=False`), then there will be an error."
   ]
  }
 ],
 "metadata": {
  "kernelspec": {
   "display_name": "Python 3",
   "language": "python",
   "name": "python3"
  },
  "language_info": {
   "codemirror_mode": {
    "name": "ipython",
    "version": 3
   },
   "file_extension": ".py",
   "mimetype": "text/x-python",
   "name": "python",
   "nbconvert_exporter": "python",
   "pygments_lexer": "ipython3",
   "version": "3.13.0"
  }
 },
 "nbformat": 4,
 "nbformat_minor": 5
}
