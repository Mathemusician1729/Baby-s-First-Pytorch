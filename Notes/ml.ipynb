{
 "cells": [
  {
   "cell_type": "markdown",
   "id": "873ca1af",
   "metadata": {},
   "source": [
    "- PyTorch is used a lot in **Machine Learning** which as we have seen is using data to find patterns and usually make predictions\n",
    "- If you think of programming as a recipe or instruction\n",
    "    - <u>Regular Programming (Functions + Algorithms)</u>: **Input, Instructions** $\\rightarrow$ **Output**\n",
    "    - <u>Machine Learning</u>: **Input, Predetermined Output (*Features*)** $\\rightarrow$ **Develop/Figures Out Instructions**"
   ]
  },
  {
   "cell_type": "markdown",
   "id": "1799da3a",
   "metadata": {},
   "source": [
    "## **Deep Learning**\n",
    "\n",
    "- Very good for:\n",
    "    - **Problems where there may be long lists or long instructions**\n",
    "    - **Continually changing environments**\n",
    "    - **Discovering insights in *large* collections of data**\n",
    "\n",
    "$\\\\$\n",
    "\n",
    "- Not good for:\n",
    "    - **Explaining things** $\\rightarrow$ results can be hard to interpret as humans\n",
    "    - **If you can do it with simple/traditional rules** $\\rightarrow$ don't need ml/dl\n",
    "    - **Errors** $\\rightarrow$ ML/DL results aren't always predictable and can lead to potential errors\n",
    "    - **When you don't have that much data** $\\rightarrow$ ML/DL can be overkill\n",
    "\n",
    "**ML vs DL**:\n",
    "- Traditional ML is mainly used for <u><b>Structured Data</b></u>\n",
    "    - Structured Data $\\rightarrow$ Data organized in rows/columns (like in Excel)\n",
    "    - Bayesian Models, Random Forests, etc.\n",
    "        - A lot of these algorithms are now considered *Shallow Algorithms*\n",
    "\n",
    "- DL is more for <u><b>Unstructured Data</b></u>\n",
    "    - Unstructured Data $\\rightarrow$ stuff like Natural Language, Images, Text, Audio Files etc.\n",
    "    - Neural Networks mainly\n"
   ]
  },
  {
   "cell_type": "markdown",
   "id": "997fb2fe",
   "metadata": {},
   "source": [
    "## **Neural Networks**\n",
    "\n",
    "- ***What do I think it means?***\n",
    "    - It is an ML model that ***processes data in a similar way as the human brain does.***\n",
    "    - Human brain functions on neurons and electrical signals, well Neural Networks would have their own version of this. \n",
    "\n",
    "- We noted Deep Learning (used in NNs) would be used a lot in *unstructured data*\n",
    "- NNs take in the data and ***convert that unstructured data into numbers*** called **Numerical Encoding**\n",
    "$\\\\$\n",
    "\n",
    "- Neural Networks have an **Input Layer**, **Many Hidden Layers** and an **Output Layer**\n",
    "    - Outputs are referred to as **Features**\n",
    "    - **Data (Input)** $\\rightarrow$ **Process that determines patterns (in hidden layers)** $\\rightarrow$ **Output**\n",
    "\n",
    "\n",
    "### **Learning Paradigms**\n",
    "- **Supervised Learning**\n",
    "    - You would have a lot a data, both inputs and outputs $\\rightarrow$ for example, training algorithm to produce outputs from inputs (like we discussed) is an example of Supervised Learning\n",
    "    - You would have categories/identifiers for the data inputs/outputs\n",
    "    - Think of it like you yourself are supervising it and tell it exactly which things are which\n",
    "- **Unsupervised + Self-Supervised Learning**\n",
    "    - Data inputs/outputs aren't labeled\n",
    "    - Think of it like instead, now you're letting it do it on its own without telling it anything and see what happens\n",
    "- **Transfer Learning**\n",
    "    - Takes the patterns/results that one model has learnt, and *transfers* it to another model\n",
    "    - Coworkers sharing notes with each other\n",
    "- **Reinforcement Learning**\n",
    "    - Dog training, but for AI\n",
    "        - Rewarded for certain desired observations that it does"
   ]
  }
 ],
 "metadata": {
  "language_info": {
   "name": "python"
  }
 },
 "nbformat": 4,
 "nbformat_minor": 5
}
