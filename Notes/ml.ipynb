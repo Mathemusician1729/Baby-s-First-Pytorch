{
 "cells": [
  {
   "cell_type": "markdown",
   "id": "873ca1af",
   "metadata": {},
   "source": [
    "- PyTorch is used a lot in **Machine Learning** which as we have seen is using data to find patterns and usually make predictions\n",
    "- If you think of programming as a recipe or instruction\n",
    "    - <u>Regular Programming (Functions + Algorithms)</u>: **Input, Instructions** $\\rightarrow$ **Output**\n",
    "    - <u>Machine Learning</u>: **Input, Predetermined Output (*Features*)** $\\rightarrow$ **Develop/Figures Out Instructions**"
   ]
  },
  {
   "cell_type": "markdown",
   "id": "1799da3a",
   "metadata": {},
   "source": [
    "## **Deep Learning**\n",
    "\n",
    "- "
   ]
  }
 ],
 "metadata": {
  "language_info": {
   "name": "python"
  }
 },
 "nbformat": 4,
 "nbformat_minor": 5
}
