{
 "cells": [
  {
   "cell_type": "markdown",
   "id": "7b42e712",
   "metadata": {},
   "source": [
    "# **I. Tensor Basics**"
   ]
  },
  {
   "cell_type": "code",
   "execution_count": 2,
   "id": "12b93643",
   "metadata": {},
   "outputs": [],
   "source": [
    "import torch"
   ]
  },
  {
   "cell_type": "markdown",
   "id": "4b8aa52c",
   "metadata": {},
   "source": [
    "- In Pytorch everything is based off of **Tensor Operations**\n",
    "    - <u>Tensors are similar to Arrays in Numpy</u>\n",
    "    - Can have different dimensions (1D, 2D, etc.)"
   ]
  },
  {
   "cell_type": "code",
   "execution_count": 3,
   "id": "be651235",
   "metadata": {},
   "outputs": [
    {
     "name": "stdout",
     "output_type": "stream",
     "text": [
      "tensor([0.])\n",
      "tensor([-3.7799e+22,  7.3008e-43,  0.0000e+00])\n"
     ]
    }
   ],
   "source": [
    "# 1D empty tensor creation example\n",
    "x = torch.empty(1) # 1D Empty Tensor with 1 element\n",
    "y = torch.empty(3) # 1D Empty Tensor with 3 elements\n",
    "print(x)\n",
    "print(y)"
   ]
  },
  {
   "cell_type": "code",
   "execution_count": 4,
   "id": "eb4ff967",
   "metadata": {},
   "outputs": [
    {
     "name": "stdout",
     "output_type": "stream",
     "text": [
      "tensor([[0., 0., 0.],\n",
      "        [0., 0., 0.]])\n",
      "tensor([[-3.8665e+22,  7.3008e-43,  0.0000e+00,  0.0000e+00,  0.0000e+00],\n",
      "        [ 0.0000e+00,  0.0000e+00,  0.0000e+00,  0.0000e+00,  0.0000e+00]])\n",
      "tensor([[[-3.8371e+22,  7.3008e-43,  0.0000e+00],\n",
      "         [ 0.0000e+00,  0.0000e+00,  0.0000e+00]]])\n"
     ]
    }
   ],
   "source": [
    "# higher dimension tensors example\n",
    "x = torch.empty(2,3) # create a 2D Empty Tensor with 2 columns and 3 rows\n",
    "y = torch.empty(2,5) # create a 2D Empty Tensor with 3 columns and 5 rows\n",
    "z = torch.empty(1,2,3) # create a 1x2x3 3D Empty Tensor \n",
    "\n",
    "print(x)\n",
    "print(y)\n",
    "print(z)"
   ]
  },
  {
   "cell_type": "code",
   "execution_count": 5,
   "id": "ad2d4e94",
   "metadata": {},
   "outputs": [
    {
     "name": "stdout",
     "output_type": "stream",
     "text": [
      "tensor([0.8917, 0.1327, 0.4954, 0.3832])\n"
     ]
    }
   ],
   "source": [
    "# Random values in a tensor example\n",
    "t_random = torch.rand(4) # generate a 1D Tensor with 4 elements, each randomly selected\n",
    "print(t_random)"
   ]
  },
  {
   "cell_type": "code",
   "execution_count": 6,
   "id": "4307e221",
   "metadata": {},
   "outputs": [
    {
     "name": "stdout",
     "output_type": "stream",
     "text": [
      "tensor([[0., 0.],\n",
      "        [0., 0.]])\n",
      "tensor([[1., 1., 1.],\n",
      "        [1., 1., 1.],\n",
      "        [1., 1., 1.]])\n"
     ]
    }
   ],
   "source": [
    "# tensors zeros() example (similar to numpy.zeros())\n",
    "t_zeros = torch.zeros(2,2) # generate a 2D 2x2 Tensor with 0 for all its values\n",
    "print(t_zeros)\n",
    "\n",
    "# similar but with ones \n",
    "t_ones = torch.ones(3,3) # generate a 2D 3x3 Tensor with all 1s as its elements\n",
    "print(t_ones)"
   ]
  },
  {
   "cell_type": "code",
   "execution_count": 7,
   "id": "1e78e27d",
   "metadata": {},
   "outputs": [
    {
     "name": "stdout",
     "output_type": "stream",
     "text": [
      "old dt type: torch.float32\n",
      "new dt type: torch.int32\n"
     ]
    }
   ],
   "source": [
    "# changing datatypes of elements in Tensors\n",
    "t_olddt = torch.ones(3,5) # create 2D 3x5 Tensor of all ones\n",
    "t_newdt = torch.ones(3,5, dtype=torch.int) # create 2D 3x5 Tensor of all ones where each 1 is now an int\n",
    "\n",
    "print(\"old dt type:\", t_olddt.dtype)\n",
    "print(\"new dt type:\", t_newdt.dtype)"
   ]
  },
  {
   "cell_type": "code",
   "execution_count": null,
   "id": "f45b7ea6",
   "metadata": {},
   "outputs": [
    {
     "name": "stdout",
     "output_type": "stream",
     "text": [
      "torch.Size([3, 5])\n"
     ]
    }
   ],
   "source": [
    "# get size of tensor\n",
    "print(t_newdt.size()) # get size of the 3x5 Tensor previously defined"
   ]
  },
  {
   "cell_type": "code",
   "execution_count": null,
   "id": "381605e1",
   "metadata": {},
   "outputs": [
    {
     "name": "stdout",
     "output_type": "stream",
     "text": [
      "tensor([1, 1, 2, 3, 5, 8])\n"
     ]
    }
   ],
   "source": [
    "# create tensor from other data types --> Python List\n",
    "t_list = torch.tensor([1,1,2,3,5,8]) # create a 1D Tensor of 6 elements from a similar list \n",
    "print(t_list)"
   ]
  }
 ],
 "metadata": {
  "kernelspec": {
   "display_name": "Python 3",
   "language": "python",
   "name": "python3"
  },
  "language_info": {
   "codemirror_mode": {
    "name": "ipython",
    "version": 3
   },
   "file_extension": ".py",
   "mimetype": "text/x-python",
   "name": "python",
   "nbconvert_exporter": "python",
   "pygments_lexer": "ipython3",
   "version": "3.13.0"
  }
 },
 "nbformat": 4,
 "nbformat_minor": 5
}
