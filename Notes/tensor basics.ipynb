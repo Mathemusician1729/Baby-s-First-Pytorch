{
 "cells": [
  {
   "cell_type": "markdown",
   "id": "72be47ac",
   "metadata": {},
   "source": [
    "- Pytorch writes fast deep learning code in Python, running on the GPU\n",
    "- Accesses many pre-built deep learning models\n",
    "- Provides environment for whole stack of machine learning\n",
    "    - Preprocessing data\n",
    "    - Modelling data\n",
    "    - Deploying model in application/cloud"
   ]
  },
  {
   "cell_type": "markdown",
   "id": "7b42e712",
   "metadata": {},
   "source": [
    "# **I. Tensor Basics**"
   ]
  },
  {
   "cell_type": "code",
   "execution_count": 2,
   "id": "12b93643",
   "metadata": {},
   "outputs": [],
   "source": [
    "import torch"
   ]
  },
  {
   "cell_type": "markdown",
   "id": "4b8aa52c",
   "metadata": {},
   "source": [
    "- In Pytorch everything is based off of **Tensor Operations**\n",
    "    - <u>Tensors are similar to Arrays in Numpy</u>\n",
    "    - Can have different dimensions (1D, 2D, etc.)\n",
    "    - **Acts as a way to *numerically encode* our data**"
   ]
  },
  {
   "cell_type": "code",
   "execution_count": 3,
   "id": "be651235",
   "metadata": {},
   "outputs": [
    {
     "name": "stdout",
     "output_type": "stream",
     "text": [
      "tensor([-2.4191e+24])\n",
      "tensor([0., 0., 0.])\n"
     ]
    }
   ],
   "source": [
    "# 1D empty tensor creation example\n",
    "x = torch.empty(1) # 1D Empty Tensor with 1 element\n",
    "y = torch.empty(3) # 1D Empty Tensor with 3 elements\n",
    "print(x)\n",
    "print(y)"
   ]
  },
  {
   "cell_type": "code",
   "execution_count": 4,
   "id": "eb4ff967",
   "metadata": {},
   "outputs": [
    {
     "name": "stdout",
     "output_type": "stream",
     "text": [
      "tensor([[0., 0., 0.],\n",
      "        [0., 0., 0.]])\n",
      "tensor([[-2.4746e+24,  1.8721e-42,  0.0000e+00,  0.0000e+00,  0.0000e+00],\n",
      "        [ 0.0000e+00,  0.0000e+00,  0.0000e+00,  0.0000e+00,  0.0000e+00]])\n",
      "tensor([[[-2.4557e+24,  1.8721e-42,  0.0000e+00],\n",
      "         [ 0.0000e+00,  0.0000e+00,  0.0000e+00]]])\n"
     ]
    }
   ],
   "source": [
    "# higher dimension tensors example\n",
    "x = torch.empty(2,3) # create a 2D Empty Tensor with 2 columns and 3 rows\n",
    "y = torch.empty(2,5) # create a 2D Empty Tensor with 3 columns and 5 rows\n",
    "z = torch.empty(1,2,3) # create a 1x2x3 3D Empty Tensor \n",
    "\n",
    "print(x)\n",
    "print(y)\n",
    "print(z)"
   ]
  },
  {
   "cell_type": "code",
   "execution_count": 5,
   "id": "ad2d4e94",
   "metadata": {},
   "outputs": [
    {
     "name": "stdout",
     "output_type": "stream",
     "text": [
      "tensor([0.4125, 0.8770, 0.7844, 0.0092])\n"
     ]
    }
   ],
   "source": [
    "# Random values in a tensor example\n",
    "t_random = torch.rand(4) # generate a 1D Tensor with 4 elements, each randomly selected\n",
    "print(t_random)"
   ]
  },
  {
   "cell_type": "code",
   "execution_count": 6,
   "id": "4307e221",
   "metadata": {},
   "outputs": [
    {
     "name": "stdout",
     "output_type": "stream",
     "text": [
      "tensor([[0., 0.],\n",
      "        [0., 0.]])\n",
      "tensor([[1., 1., 1.],\n",
      "        [1., 1., 1.],\n",
      "        [1., 1., 1.]])\n"
     ]
    }
   ],
   "source": [
    "# tensors zeros() example (similar to numpy.zeros())\n",
    "t_zeros = torch.zeros(2,2) # generate a 2D 2x2 Tensor with 0 for all its values\n",
    "print(t_zeros)\n",
    "\n",
    "# similar but with ones \n",
    "t_ones = torch.ones(3,3) # generate a 2D 3x3 Tensor with all 1s as its elements\n",
    "print(t_ones)"
   ]
  },
  {
   "cell_type": "code",
   "execution_count": 7,
   "id": "1e78e27d",
   "metadata": {},
   "outputs": [
    {
     "name": "stdout",
     "output_type": "stream",
     "text": [
      "old dt type: torch.float32\n",
      "new dt type: torch.int32\n"
     ]
    }
   ],
   "source": [
    "# changing datatypes of elements in Tensors\n",
    "t_olddt = torch.ones(3,5) # create 2D 3x5 Tensor of all ones\n",
    "t_newdt = torch.ones(3,5, dtype=torch.int) # create 2D 3x5 Tensor of all ones where each 1 is now an int\n",
    "\n",
    "print(\"old dt type:\", t_olddt.dtype)\n",
    "print(\"new dt type:\", t_newdt.dtype)"
   ]
  },
  {
   "cell_type": "code",
   "execution_count": 8,
   "id": "f45b7ea6",
   "metadata": {},
   "outputs": [
    {
     "name": "stdout",
     "output_type": "stream",
     "text": [
      "torch.Size([3, 5])\n"
     ]
    }
   ],
   "source": [
    "# get size of tensor\n",
    "print(t_newdt.size()) # get size of the 3x5 Tensor previously defined"
   ]
  },
  {
   "cell_type": "code",
   "execution_count": 9,
   "id": "381605e1",
   "metadata": {},
   "outputs": [
    {
     "name": "stdout",
     "output_type": "stream",
     "text": [
      "tensor([1, 1, 2, 3, 5, 8])\n"
     ]
    }
   ],
   "source": [
    "# create tensor from other data types --> Python List\n",
    "t_list = torch.tensor([1,1,2,3,5,8]) # create a 1D Tensor of 6 elements from a similar list \n",
    "print(t_list)"
   ]
  },
  {
   "cell_type": "markdown",
   "id": "3fabac92",
   "metadata": {},
   "source": [
    "## Tensor Operations\n",
    "\n",
    "Adding/Subtracting Tensors is similar to adding/subtracting matrices, they must be the same dimensions to work."
   ]
  },
  {
   "cell_type": "code",
   "execution_count": 15,
   "id": "d164fc8e",
   "metadata": {},
   "outputs": [
    {
     "name": "stdout",
     "output_type": "stream",
     "text": [
      "tensor([[2, 2],\n",
      "        [1, 1]])\n",
      "tensor([[0, 3],\n",
      "        [3, 0]])\n",
      "\n",
      "tensor([[2, 5],\n",
      "        [4, 1]])\n"
     ]
    }
   ],
   "source": [
    "# Adding Tensors\n",
    "t1 = torch.tensor([[2,2], [1,1]]) # create a 2x2 Tensor of random values\n",
    "t2 = torch.tensor([[0,3], [3,0]]) # create another 2x2 Tensor of random values\n",
    "t3 = t1 + t2 \n",
    "\n",
    "print(t1)\n",
    "print(t2)\n",
    "print()\n",
    "print(t3)\n",
    "\n",
    "# Alternatively we can use torch.add(t1, t2) to get the same result"
   ]
  },
  {
   "cell_type": "code",
   "execution_count": 16,
   "id": "06e5cb5f",
   "metadata": {},
   "outputs": [
    {
     "name": "stdout",
     "output_type": "stream",
     "text": [
      "tensor([[2, 5],\n",
      "        [4, 1]])\n"
     ]
    }
   ],
   "source": [
    "# In-Place (modifys a current variable) addition example\n",
    "t2.add_(t1) # add t1 and t2 and set the value of t2 to be that sum\n",
    "print(t2)"
   ]
  },
  {
   "cell_type": "markdown",
   "id": "a421dad9",
   "metadata": {},
   "source": [
    "*note that every function in pytorch with **_ will always be an inplace function***"
   ]
  },
  {
   "cell_type": "markdown",
   "id": "5b1fb74e",
   "metadata": {},
   "source": [
    "Multiplying Tensors using * or torch.mul() will result in element-wise multiplication (similar to addition)"
   ]
  },
  {
   "cell_type": "code",
   "execution_count": null,
   "id": "43e2a8a6",
   "metadata": {},
   "outputs": [
    {
     "name": "stdout",
     "output_type": "stream",
     "text": [
      "tensor([[ 4, 10],\n",
      "        [ 4,  1]])\n",
      "tensor([[ 4, 10],\n",
      "        [ 4,  1]])\n"
     ]
    }
   ],
   "source": [
    "# Multiplying Tensors\n",
    "t4 = t1 * t2\n",
    "print(t4)\n",
    "\n",
    "t4_alt = torch.mul(t1,t2)\n",
    "print(t4_alt)\n",
    "\n",
    "# inplace is once again denoted by t4.mul_(t1,t2)\n",
    "# division is t1 / t2 or torch.div(t1,t2)"
   ]
  },
  {
   "cell_type": "markdown",
   "id": "a2371435",
   "metadata": {},
   "source": [
    "## Slicing Tensors"
   ]
  },
  {
   "cell_type": "code",
   "execution_count": 20,
   "id": "15c9dae0",
   "metadata": {},
   "outputs": [
    {
     "name": "stdout",
     "output_type": "stream",
     "text": [
      "tensor([[0.0023, 0.4944, 0.3564],\n",
      "        [0.6718, 0.8608, 0.2113],\n",
      "        [0.6987, 0.7278, 0.1380]])\n"
     ]
    }
   ],
   "source": [
    "t_toslice = torch.rand(3,3) # initialize random 3x3 Tensor\n",
    "print(t_toslice)"
   ]
  },
  {
   "cell_type": "code",
   "execution_count": null,
   "id": "1eb6ec22",
   "metadata": {},
   "outputs": [
    {
     "name": "stdout",
     "output_type": "stream",
     "text": [
      "tensor([0.0023, 0.4944, 0.3564])\n",
      "tensor([[0.4944, 0.3564],\n",
      "        [0.8608, 0.2113]])\n"
     ]
    }
   ],
   "source": [
    "# slicing to just get the first row\n",
    "print(t_toslice[0,:]) # slice, getting just the first row (arg1 = 0) and keeping all the other columns (denote using :)\n",
    "\n",
    "# slicing to get the 2nd and 3rd columns and the 1st and 2nd rows (OUTER BOUND IS EXCLUSIVE!)\n",
    "print(t_toslice[0:2, 1:3])"
   ]
  },
  {
   "cell_type": "code",
   "execution_count": null,
   "id": "b8c509e2",
   "metadata": {},
   "outputs": [
    {
     "name": "stdout",
     "output_type": "stream",
     "text": [
      "0.8608312606811523\n"
     ]
    }
   ],
   "source": [
    "# .item() gets us the actual value for just one value\n",
    "print(t_toslice[1,1].item()) # get entry in row 2, col 2"
   ]
  },
  {
   "cell_type": "code",
   "execution_count": 26,
   "id": "ebd95773",
   "metadata": {},
   "outputs": [
    {
     "name": "stdout",
     "output_type": "stream",
     "text": [
      "tensor([[1., 1., 1., 1.],\n",
      "        [1., 1., 1., 1.],\n",
      "        [1., 1., 1., 1.],\n",
      "        [1., 1., 1., 1.]])\n",
      "tensor([1., 1., 1., 1., 1., 1., 1., 1., 1., 1., 1., 1., 1., 1., 1., 1.])\n"
     ]
    }
   ],
   "source": [
    "# reshaping tensors (.view())\n",
    "initial = torch.ones(4,4) # create a 4x4 2D Tensor, we want to reshape this into different dimension (e.g. 4x4 to 16x1)\n",
    "print(initial)\n",
    "t_new = initial.view(16) # reshape as a 1x16 1D Tensor\n",
    "print(t_new)"
   ]
  },
  {
   "cell_type": "code",
   "execution_count": null,
   "id": "ecbb5892",
   "metadata": {},
   "outputs": [
    {
     "name": "stdout",
     "output_type": "stream",
     "text": [
      "tensor([1., 1., 1., 1.])\n",
      "<class 'torch.Tensor'>\n",
      "[1. 1. 1. 1.]\n",
      "<class 'numpy.ndarray'>\n"
     ]
    }
   ],
   "source": [
    "# tensor to numpy\n",
    "import numpy as np\n",
    "\n",
    "t_a = torch.ones(4)\n",
    "print(t_a)\n",
    "print(type(t_a))\n",
    "\n",
    "t_b = t_a.numpy() # convert from tensor to numpy array using numpy()\n",
    "print(t_b)\n",
    "print(type(t_b))"
   ]
  },
  {
   "cell_type": "markdown",
   "id": "65f1c8f4",
   "metadata": {},
   "source": [
    "Apparently if the tensor is stored on a CPU instead of a GPU the numpy and tensor share the same memory location, so modifying one will modify the other??"
   ]
  },
  {
   "cell_type": "code",
   "execution_count": 32,
   "id": "00aba2b5",
   "metadata": {},
   "outputs": [
    {
     "name": "stdout",
     "output_type": "stream",
     "text": [
      "tensor([3., 3., 3., 3.])\n",
      "[3. 3. 3. 3.]\n"
     ]
    }
   ],
   "source": [
    "# this does happen in this case\n",
    "t_a.add_(torch.tensor([1,1,1,1]))\n",
    "print(t_a)\n",
    "print(t_b)"
   ]
  },
  {
   "cell_type": "code",
   "execution_count": null,
   "id": "26f81a59",
   "metadata": {},
   "outputs": [
    {
     "name": "stdout",
     "output_type": "stream",
     "text": [
      "[1. 1. 1.]\n",
      "<class 'numpy.ndarray'>\n",
      "tensor([1., 1., 1.], dtype=torch.float64)\n",
      "<class 'torch.Tensor'>\n"
     ]
    }
   ],
   "source": [
    "# numpy to tensor\n",
    "num_a = np.ones(3) \n",
    "num_b = torch.from_numpy(num_a)\n",
    "\n",
    "print(num_a)\n",
    "print(type(num_a))\n",
    "print(num_b)\n",
    "print(type(num_b))\n",
    "\n",
    "# modtifying issue still occurs here\n",
    "# you can add the dtype= parameter to .from_numpy() to change data type as well"
   ]
  },
  {
   "cell_type": "code",
   "execution_count": null,
   "id": "6945b356",
   "metadata": {},
   "outputs": [
    {
     "name": "stdout",
     "output_type": "stream",
     "text": [
      "False\n"
     ]
    }
   ],
   "source": [
    "# one way to make it write tensors on the gpu is:\n",
    "if torch.cuda.is_available():\n",
    "    print(\"This is writing on the GPU\")\n",
    "    device = torch.device(\"cuda\") \n",
    "\n",
    "    # now create tensor like normal but with parameter specifying we wnat to put in on the GPU\n",
    "    t_t = torch.ones(5, device=device)\n",
    "\n",
    "    # We can also move a current one to the gpu\n",
    "    t_t2 = torch.ones(4) # this one creates a tensor but on the cpu like normal\n",
    "    t_t2 = t_t2.to(device) # MOVES the already-made tensor to the gpu\n",
    "\n",
    "else:\n",
    "    print(\"False\")\n",
    "\n",
    "# Note that numpy will make errors in the inner if because it can only handle cpu tensors\n",
    "# we can use .to(\"cpu\") to move the tensor back to the cpu"
   ]
  },
  {
   "cell_type": "markdown",
   "id": "57dbdab5",
   "metadata": {},
   "source": [
    "*required_grad* is a parameter which tells the machine to calculate the gradients for the specified tensor in optimizing it (which requires gradients). \n",
    "- Initially false by default"
   ]
  },
  {
   "cell_type": "code",
   "execution_count": 38,
   "id": "4f05b083",
   "metadata": {},
   "outputs": [
    {
     "name": "stdout",
     "output_type": "stream",
     "text": [
      "tensor([1., 1., 1., 1., 1.], requires_grad=True)\n"
     ]
    }
   ],
   "source": [
    "t_optimized = torch.ones(5, requires_grad=True)\n",
    "print(t_optimized)"
   ]
  }
 ],
 "metadata": {
  "kernelspec": {
   "display_name": "Python 3",
   "language": "python",
   "name": "python3"
  },
  "language_info": {
   "codemirror_mode": {
    "name": "ipython",
    "version": 3
   },
   "file_extension": ".py",
   "mimetype": "text/x-python",
   "name": "python",
   "nbconvert_exporter": "python",
   "pygments_lexer": "ipython3",
   "version": "3.13.0"
  }
 },
 "nbformat": 4,
 "nbformat_minor": 5
}
